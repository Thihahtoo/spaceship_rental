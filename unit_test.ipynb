{
 "cells": [
  {
   "cell_type": "code",
   "execution_count": 20,
   "metadata": {},
   "outputs": [],
   "source": [
    "def build_neighbour(contract):\n",
    "    neigh_set = set({})\n",
    "    for c in contract:\n",
    "        if set(c.keys()) == {'name','start','duration','price'}:\n",
    "            neig = ()\n",
    "            end = c['start'] + c['duration']\n",
    "            for j in contract:\n",
    "                if j['start'] >= end:\n",
    "                    neig = (f\"{c['name']}:{c['price']}\", f\"{j['name']}:{j['price']}\")\n",
    "                    neigh_set.add(neig)\n",
    "                    \n",
    "            if not neig:\n",
    "                neigh_set.add((f\"{c['name']}:{c['price']}\", None))\n",
    "        else:\n",
    "            raise Exception(\"Missing required keys in provided json body.\")\n",
    "    return neigh_set"
   ]
  },
  {
   "cell_type": "code",
   "execution_count": 21,
   "metadata": {},
   "outputs": [],
   "source": [
    "def calculate_total_profit(path_tuple):\n",
    "    path = []\n",
    "    profit = 0\n",
    "    for ele in path_tuple:\n",
    "        if ele is not None:\n",
    "            c, p = ele.split(':')\n",
    "            path.append(c)\n",
    "            profit = profit + int(p)\n",
    "    return (tuple(path), profit)"
   ]
  },
  {
   "cell_type": "code",
   "execution_count": 22,
   "metadata": {},
   "outputs": [],
   "source": [
    "def find_path(contract):\n",
    "    main_dict = {}\n",
    "    neigh_set = build_neighbour(contract)\n",
    "    tmp_set = neigh_set\n",
    "    holder_set = neigh_set\n",
    "\n",
    "    while holder_set:\n",
    "        holder_set = set({})\n",
    "        for tup1 in tmp_set:\n",
    "            path, profit = calculate_total_profit(tup1)\n",
    "            main_dict[path] = profit\n",
    "            \n",
    "            for tup2 in neigh_set:\n",
    "                if tup1[-1] == tup2[0]:\n",
    "                    holder_set.add(tup1 + (tup2[-1],))\n",
    "        \n",
    "        tmp_set = holder_set\n",
    "    \n",
    "    best_path = max(main_dict, key=main_dict.get)\n",
    "    max_profit = main_dict[best_path]\n",
    "    return list(best_path), max_profit"
   ]
  },
  {
   "cell_type": "code",
   "execution_count": 23,
   "metadata": {},
   "outputs": [
    {
     "data": {
      "text/plain": [
       "(['c1', 'c2', 'c4', 'c5'], 15)"
      ]
     },
     "execution_count": 23,
     "metadata": {},
     "output_type": "execute_result"
    }
   ],
   "source": [
    "contracts = [\n",
    "{\"name\": \"c1\", \"start\" : 0, \"duration\": 2, \"price\": 10}\n",
    ",{\"name\": \"c2\", \"start\" :2, \"duration\" :2, \"price\" :1}\n",
    ",{\"name\": \"c3\", \"start\" :2, \"duration\" :4 , \"price\": 2}\n",
    ",{\"name\": \"c4\", \"start\" :4, \"duration\" :4 , \"price\": 2}\n",
    ",{\"name\": \"c5\", \"start\" :8, \"duration\" :4 , \"price\": 2}\n",
    "]\n",
    "find_path(contracts)"
   ]
  },
  {
   "cell_type": "code",
   "execution_count": 24,
   "metadata": {},
   "outputs": [
    {
     "data": {
      "text/plain": [
       "(['Contract1', 'Contract3'], 18)"
      ]
     },
     "execution_count": 24,
     "metadata": {},
     "output_type": "execute_result"
    }
   ],
   "source": [
    "contracts = [\n",
    "{\"name\": \"Contract1\", \"start\": 0, \"duration\": 5, \"price\": 10}\n",
    ",{\"name\": \"Contract2\", \"start\": 3, \"duration\": 7, \"price\": 14}\n",
    ",{\"name\": \"Contract3\", \"start\": 5, \"duration\": 9, \"price\": 8}\n",
    ",{\"name\": \"Contract4\", \"start\": 5, \"duration\": 9, \"price\": 7}\n",
    "]\n",
    "find_path(contracts)"
   ]
  },
  {
   "cell_type": "code",
   "execution_count": 25,
   "metadata": {},
   "outputs": [
    {
     "data": {
      "text/plain": [
       "(['Contract1'], 10)"
      ]
     },
     "execution_count": 25,
     "metadata": {},
     "output_type": "execute_result"
    }
   ],
   "source": [
    "contracts = [\n",
    "{\"name\": \"Contract1\", \"start\": 0, \"duration\": 5, \"price\": 10}\n",
    "]\n",
    "find_path(contracts)"
   ]
  },
  {
   "cell_type": "code",
   "execution_count": 26,
   "metadata": {},
   "outputs": [
    {
     "data": {
      "text/plain": [
       "(['Contract1'], 10)"
      ]
     },
     "execution_count": 26,
     "metadata": {},
     "output_type": "execute_result"
    }
   ],
   "source": [
    "contracts = [\n",
    "{\"name\": \"Contract1\", \"start\": 0, \"duration\": 5, \"price\": 15}\n",
    ",{\"name\": \"Contract1\", \"start\": 3, \"duration\": 5, \"price\": 10}\n",
    "]\n",
    "find_path(contracts)"
   ]
  },
  {
   "cell_type": "code",
   "execution_count": 27,
   "metadata": {},
   "outputs": [
    {
     "data": {
      "text/plain": [
       "(['c6'], 200)"
      ]
     },
     "execution_count": 27,
     "metadata": {},
     "output_type": "execute_result"
    }
   ],
   "source": [
    "contracts = [\n",
    "{\"name\": 'c1', \"start\" : 0, \"duration\": 2, \"price\": 10}\n",
    ",{\"name\": \"c2\", \"start\" :2, \"duration\" :2, \"price\" :1}\n",
    ",{\"name\": \"c3\", \"start\" :2, \"duration\" :4 , \"price\": 2}\n",
    ",{\"name\": \"c4\", \"start\" :4, \"duration\" :4 , \"price\": 2}\n",
    ",{\"name\": \"c5\", \"start\" :8, \"duration\" :4 , \"price\": 2}\n",
    ",{\"name\": \"c6\", \"start\" :0, \"duration\" :100 , \"price\": 200}\n",
    "]\n",
    "find_path(contracts)"
   ]
  },
  {
   "cell_type": "code",
   "execution_count": 28,
   "metadata": {},
   "outputs": [
    {
     "ename": "Exception",
     "evalue": "Missing required keys in provided json body.",
     "output_type": "error",
     "traceback": [
      "\u001b[0;31m---------------------------------------------------------------------------\u001b[0m",
      "\u001b[0;31mException\u001b[0m                                 Traceback (most recent call last)",
      "\u001b[1;32m/mnt/e/My_Workspace/QRT_spaceship_rental_test/spaceship_rental/unit_test.ipynb Cell 9\u001b[0m in \u001b[0;36m<cell line: 5>\u001b[0;34m()\u001b[0m\n\u001b[1;32m      <a href='vscode-notebook-cell://wsl%2Bubuntu/mnt/e/My_Workspace/QRT_spaceship_rental_test/spaceship_rental/unit_test.ipynb#X11sdnNjb2RlLXJlbW90ZQ%3D%3D?line=0'>1</a>\u001b[0m contracts \u001b[39m=\u001b[39m [\n\u001b[1;32m      <a href='vscode-notebook-cell://wsl%2Bubuntu/mnt/e/My_Workspace/QRT_spaceship_rental_test/spaceship_rental/unit_test.ipynb#X11sdnNjb2RlLXJlbW90ZQ%3D%3D?line=1'>2</a>\u001b[0m {\u001b[39m\"\u001b[39m\u001b[39mname\u001b[39m\u001b[39m\"\u001b[39m: \u001b[39m\"\u001b[39m\u001b[39mContract1\u001b[39m\u001b[39m\"\u001b[39m, \u001b[39m\"\u001b[39m\u001b[39mstart\u001b[39m\u001b[39m\"\u001b[39m: \u001b[39m0\u001b[39m, \u001b[39m\"\u001b[39m\u001b[39mduration\u001b[39m\u001b[39m\"\u001b[39m: \u001b[39m5\u001b[39m, \u001b[39m\"\u001b[39m\u001b[39mprice\u001b[39m\u001b[39m\"\u001b[39m: \u001b[39m15\u001b[39m}\n\u001b[1;32m      <a href='vscode-notebook-cell://wsl%2Bubuntu/mnt/e/My_Workspace/QRT_spaceship_rental_test/spaceship_rental/unit_test.ipynb#X11sdnNjb2RlLXJlbW90ZQ%3D%3D?line=2'>3</a>\u001b[0m ,{\u001b[39m\"\u001b[39m\u001b[39mname\u001b[39m\u001b[39m\"\u001b[39m: \u001b[39m\"\u001b[39m\u001b[39mContract1\u001b[39m\u001b[39m\"\u001b[39m, \u001b[39m\"\u001b[39m\u001b[39mstart\u001b[39m\u001b[39m\"\u001b[39m: \u001b[39m3\u001b[39m, \u001b[39m\"\u001b[39m\u001b[39mprice\u001b[39m\u001b[39m\"\u001b[39m: \u001b[39m10\u001b[39m}\n\u001b[1;32m      <a href='vscode-notebook-cell://wsl%2Bubuntu/mnt/e/My_Workspace/QRT_spaceship_rental_test/spaceship_rental/unit_test.ipynb#X11sdnNjb2RlLXJlbW90ZQ%3D%3D?line=3'>4</a>\u001b[0m ]\n\u001b[0;32m----> <a href='vscode-notebook-cell://wsl%2Bubuntu/mnt/e/My_Workspace/QRT_spaceship_rental_test/spaceship_rental/unit_test.ipynb#X11sdnNjb2RlLXJlbW90ZQ%3D%3D?line=4'>5</a>\u001b[0m find_path(contracts)\n",
      "\u001b[1;32m/mnt/e/My_Workspace/QRT_spaceship_rental_test/spaceship_rental/unit_test.ipynb Cell 9\u001b[0m in \u001b[0;36mfind_path\u001b[0;34m(contract)\u001b[0m\n\u001b[1;32m      <a href='vscode-notebook-cell://wsl%2Bubuntu/mnt/e/My_Workspace/QRT_spaceship_rental_test/spaceship_rental/unit_test.ipynb#X11sdnNjb2RlLXJlbW90ZQ%3D%3D?line=0'>1</a>\u001b[0m \u001b[39mdef\u001b[39;00m \u001b[39mfind_path\u001b[39m(contract):\n\u001b[1;32m      <a href='vscode-notebook-cell://wsl%2Bubuntu/mnt/e/My_Workspace/QRT_spaceship_rental_test/spaceship_rental/unit_test.ipynb#X11sdnNjb2RlLXJlbW90ZQ%3D%3D?line=1'>2</a>\u001b[0m     main_dict \u001b[39m=\u001b[39m {}\n\u001b[0;32m----> <a href='vscode-notebook-cell://wsl%2Bubuntu/mnt/e/My_Workspace/QRT_spaceship_rental_test/spaceship_rental/unit_test.ipynb#X11sdnNjb2RlLXJlbW90ZQ%3D%3D?line=2'>3</a>\u001b[0m     neigh_set \u001b[39m=\u001b[39m build_neighbour(contract)\n\u001b[1;32m      <a href='vscode-notebook-cell://wsl%2Bubuntu/mnt/e/My_Workspace/QRT_spaceship_rental_test/spaceship_rental/unit_test.ipynb#X11sdnNjb2RlLXJlbW90ZQ%3D%3D?line=3'>4</a>\u001b[0m     tmp_set \u001b[39m=\u001b[39m neigh_set\n\u001b[1;32m      <a href='vscode-notebook-cell://wsl%2Bubuntu/mnt/e/My_Workspace/QRT_spaceship_rental_test/spaceship_rental/unit_test.ipynb#X11sdnNjb2RlLXJlbW90ZQ%3D%3D?line=4'>5</a>\u001b[0m     holder_set \u001b[39m=\u001b[39m neigh_set\n",
      "\u001b[1;32m/mnt/e/My_Workspace/QRT_spaceship_rental_test/spaceship_rental/unit_test.ipynb Cell 9\u001b[0m in \u001b[0;36mbuild_neighbour\u001b[0;34m(contract)\u001b[0m\n\u001b[1;32m     <a href='vscode-notebook-cell://wsl%2Bubuntu/mnt/e/My_Workspace/QRT_spaceship_rental_test/spaceship_rental/unit_test.ipynb#X11sdnNjb2RlLXJlbW90ZQ%3D%3D?line=12'>13</a>\u001b[0m             neigh_set\u001b[39m.\u001b[39madd((\u001b[39mf\u001b[39m\u001b[39m\"\u001b[39m\u001b[39m{\u001b[39;00mc[\u001b[39m'\u001b[39m\u001b[39mname\u001b[39m\u001b[39m'\u001b[39m]\u001b[39m}\u001b[39;00m\u001b[39m:\u001b[39m\u001b[39m{\u001b[39;00mc[\u001b[39m'\u001b[39m\u001b[39mprice\u001b[39m\u001b[39m'\u001b[39m]\u001b[39m}\u001b[39;00m\u001b[39m\"\u001b[39m, \u001b[39mNone\u001b[39;00m))\n\u001b[1;32m     <a href='vscode-notebook-cell://wsl%2Bubuntu/mnt/e/My_Workspace/QRT_spaceship_rental_test/spaceship_rental/unit_test.ipynb#X11sdnNjb2RlLXJlbW90ZQ%3D%3D?line=13'>14</a>\u001b[0m     \u001b[39melse\u001b[39;00m:\n\u001b[0;32m---> <a href='vscode-notebook-cell://wsl%2Bubuntu/mnt/e/My_Workspace/QRT_spaceship_rental_test/spaceship_rental/unit_test.ipynb#X11sdnNjb2RlLXJlbW90ZQ%3D%3D?line=14'>15</a>\u001b[0m         \u001b[39mraise\u001b[39;00m \u001b[39mException\u001b[39;00m(\u001b[39m\"\u001b[39m\u001b[39mMissing required keys in provided json body.\u001b[39m\u001b[39m\"\u001b[39m)\n\u001b[1;32m     <a href='vscode-notebook-cell://wsl%2Bubuntu/mnt/e/My_Workspace/QRT_spaceship_rental_test/spaceship_rental/unit_test.ipynb#X11sdnNjb2RlLXJlbW90ZQ%3D%3D?line=15'>16</a>\u001b[0m \u001b[39mreturn\u001b[39;00m neigh_set\n",
      "\u001b[0;31mException\u001b[0m: Missing required keys in provided json body."
     ]
    }
   ],
   "source": [
    "contracts = [\n",
    "{\"name\": \"Contract1\", \"start\": 0, \"duration\": 5, \"price\": 15}\n",
    ",{\"name\": \"Contract1\", \"start\": 3, \"price\": 10}\n",
    "]\n",
    "find_path(contracts)"
   ]
  }
 ],
 "metadata": {
  "kernelspec": {
   "display_name": "Python 3",
   "language": "python",
   "name": "python3"
  },
  "language_info": {
   "codemirror_mode": {
    "name": "ipython",
    "version": 3
   },
   "file_extension": ".py",
   "mimetype": "text/x-python",
   "name": "python",
   "nbconvert_exporter": "python",
   "pygments_lexer": "ipython3",
   "version": "3.8.10"
  },
  "orig_nbformat": 4,
  "vscode": {
   "interpreter": {
    "hash": "916dbcbb3f70747c44a77c7bcd40155683ae19c65e1c03b4aa3499c5328201f1"
   }
  }
 },
 "nbformat": 4,
 "nbformat_minor": 2
}
