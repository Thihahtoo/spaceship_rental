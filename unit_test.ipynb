{
 "cells": [
  {
   "cell_type": "code",
   "execution_count": 1,
   "metadata": {},
   "outputs": [],
   "source": [
    "def build_neighbour(contract):\n",
    "    neigh_set = set({})\n",
    "    if contract:\n",
    "        for c in contract:\n",
    "            if set(c.keys()) == {'name','start','duration','price'}:\n",
    "                neig = ()\n",
    "                end = c['start'] + c['duration']\n",
    "                for j in contract:\n",
    "                    if set(j.keys()) == {'name','start','duration','price'} and j['start'] >= end:\n",
    "                        neig = (f\"{c['name']}:{c['price']}\", f\"{j['name']}:{j['price']}\")\n",
    "                        neigh_set.add(neig)\n",
    "                        \n",
    "                if not neig:\n",
    "                    neigh_set.add((f\"{c['name']}:{c['price']}\", None))\n",
    "    else:\n",
    "        raise Exception(\"Request body is empty\")\n",
    "    return neigh_set"
   ]
  },
  {
   "cell_type": "code",
   "execution_count": 2,
   "metadata": {},
   "outputs": [],
   "source": [
    "def calculate_total_profit(path_tuple):\n",
    "    path = []\n",
    "    profit = 0\n",
    "    for ele in path_tuple:\n",
    "        if ele is not None:\n",
    "            c, p = ele.split(':')\n",
    "            path.append(c)\n",
    "            profit = profit + int(p)\n",
    "    return (tuple(path), profit)"
   ]
  },
  {
   "cell_type": "code",
   "execution_count": 3,
   "metadata": {},
   "outputs": [],
   "source": [
    "def find_path(contract):\n",
    "    main_dict = {}\n",
    "    best_path = ()\n",
    "    max_profit = 0\n",
    "    neigh_set = build_neighbour(contract)\n",
    "    tmp_set = neigh_set\n",
    "    holder_set = neigh_set\n",
    "\n",
    "    while holder_set:\n",
    "        holder_set = set({})\n",
    "        for tup1 in tmp_set:\n",
    "            path, profit = calculate_total_profit(tup1)\n",
    "            main_dict[path] = profit\n",
    "            \n",
    "            for tup2 in neigh_set:\n",
    "                if tup1[-1] == tup2[0]:\n",
    "                    holder_set.add(tup1 + (tup2[-1],))\n",
    "        \n",
    "        tmp_set = holder_set\n",
    "   \n",
    "    if main_dict:\n",
    "        best_path = max(main_dict, key=main_dict.get)\n",
    "        max_profit = main_dict[best_path]\n",
    "        \n",
    "    return list(best_path), max_profit"
   ]
  },
  {
   "cell_type": "code",
   "execution_count": 4,
   "metadata": {},
   "outputs": [
    {
     "data": {
      "text/plain": [
       "(['Contract1', 'Contract3'], 18)"
      ]
     },
     "execution_count": 4,
     "metadata": {},
     "output_type": "execute_result"
    }
   ],
   "source": [
    "contracts = [\n",
    "{\"name\": \"Contract1\", \"start\": 0, \"duration\": 5, \"price\": 10}\n",
    ",{\"name\": \"Contract2\", \"start\": 3, \"duration\": 7, \"price\": 14}\n",
    ",{\"name\": \"Contract3\", \"start\": 5, \"duration\": 9, \"price\": 8}\n",
    ",{\"name\": \"Contract4\", \"start\": 5, \"duration\": 9, \"price\": 7}\n",
    "]\n",
    "find_path(contracts)"
   ]
  },
  {
   "cell_type": "code",
   "execution_count": 5,
   "metadata": {},
   "outputs": [
    {
     "data": {
      "text/plain": [
       "(['c1', 'c2', 'c4', 'c5'], 15)"
      ]
     },
     "execution_count": 5,
     "metadata": {},
     "output_type": "execute_result"
    }
   ],
   "source": [
    "contracts = [\n",
    "{\"name\": \"c1\", \"start\" : 0, \"duration\": 2, \"price\": 10}\n",
    ",{\"name\": \"c2\", \"start\" :2, \"duration\" :2, \"price\" :1}\n",
    ",{\"name\": \"c3\", \"start\" :2, \"duration\" :4 , \"price\": 2}\n",
    ",{\"name\": \"c4\", \"start\" :4, \"duration\" :4 , \"price\": 2}\n",
    ",{\"name\": \"c5\", \"start\" :8, \"duration\" :4 , \"price\": 2}\n",
    "]\n",
    "find_path(contracts)"
   ]
  },
  {
   "cell_type": "code",
   "execution_count": 6,
   "metadata": {},
   "outputs": [
    {
     "data": {
      "text/plain": [
       "(['c6'], 200)"
      ]
     },
     "execution_count": 6,
     "metadata": {},
     "output_type": "execute_result"
    }
   ],
   "source": [
    "contracts = [\n",
    "{\"name\": 'c1', \"start\" : 0, \"duration\": 2, \"price\": 10}\n",
    ",{\"name\": \"c2\", \"start\" :2, \"duration\" :2, \"price\" :1}\n",
    ",{\"name\": \"c3\", \"start\" :2, \"duration\" :4 , \"price\": 2}\n",
    ",{\"name\": \"c4\", \"start\" :4, \"duration\" :4 , \"price\": 2}\n",
    ",{\"name\": \"c5\", \"start\" :8, \"duration\" :4 , \"price\": 2}\n",
    ",{\"name\": \"c6\", \"start\" :0, \"duration\" :100 , \"price\": 200}\n",
    "]\n",
    "find_path(contracts)"
   ]
  },
  {
   "cell_type": "code",
   "execution_count": 7,
   "metadata": {},
   "outputs": [
    {
     "data": {
      "text/plain": [
       "(['Contract1'], 10)"
      ]
     },
     "execution_count": 7,
     "metadata": {},
     "output_type": "execute_result"
    }
   ],
   "source": [
    "contracts = [\n",
    "{\"name\": \"Contract1\", \"start\": 0, \"duration\": 5, \"price\": 10}\n",
    "]\n",
    "find_path(contracts)"
   ]
  },
  {
   "cell_type": "code",
   "execution_count": 8,
   "metadata": {},
   "outputs": [
    {
     "data": {
      "text/plain": [
       "(['Contract1'], 10)"
      ]
     },
     "execution_count": 8,
     "metadata": {},
     "output_type": "execute_result"
    }
   ],
   "source": [
    "## This case is not guaranteed to give the right answer as duplicate contract names are not expected.\n",
    "contracts = [\n",
    "{\"name\": \"Contract1\", \"start\": 0, \"duration\": 5, \"price\": 15}\n",
    ",{\"name\": \"Contract1\", \"start\": 3, \"duration\": 5, \"price\": 10}\n",
    "]\n",
    "find_path(contracts)"
   ]
  },
  {
   "cell_type": "code",
   "execution_count": 9,
   "metadata": {},
   "outputs": [
    {
     "data": {
      "text/plain": [
       "(['Contract1'], 15)"
      ]
     },
     "execution_count": 9,
     "metadata": {},
     "output_type": "execute_result"
    }
   ],
   "source": [
    "## Contracts with not all the required keys included will not be considered.\n",
    "contracts = [\n",
    "{\"name\": \"Contract1\", \"start\": 0, \"duration\": 5, \"price\": 15}\n",
    ",{\"name\": \"Contract2\", \"start\": 3, \"price\": 10}\n",
    "]\n",
    "find_path(contracts)"
   ]
  },
  {
   "cell_type": "code",
   "execution_count": 10,
   "metadata": {},
   "outputs": [
    {
     "data": {
      "text/plain": [
       "(['Contract1'], 15)"
      ]
     },
     "execution_count": 10,
     "metadata": {},
     "output_type": "execute_result"
    }
   ],
   "source": [
    "## Empty contracts will not be considered.\n",
    "contracts = [\n",
    "{\"name\": \"Contract1\", \"start\": 0, \"duration\": 5, \"price\": 15}\n",
    ",{}\n",
    "]\n",
    "find_path(contracts)"
   ]
  },
  {
   "cell_type": "code",
   "execution_count": 11,
   "metadata": {},
   "outputs": [
    {
     "data": {
      "text/plain": [
       "([], 0)"
      ]
     },
     "execution_count": 11,
     "metadata": {},
     "output_type": "execute_result"
    }
   ],
   "source": [
    "## Empty contracts will not be considered.\n",
    "contracts = [{}]\n",
    "find_path(contracts)"
   ]
  },
  {
   "cell_type": "code",
   "execution_count": 12,
   "metadata": {},
   "outputs": [
    {
     "ename": "Exception",
     "evalue": "Request body is empty",
     "output_type": "error",
     "traceback": [
      "\u001b[0;31m---------------------------------------------------------------------------\u001b[0m",
      "\u001b[0;31mException\u001b[0m                                 Traceback (most recent call last)",
      "\u001b[1;32m/mnt/e/My_Workspace/QRT_spaceship_rental_test/spaceship_rental/unit_test.ipynb Cell 12\u001b[0m in \u001b[0;36m<cell line: 3>\u001b[0;34m()\u001b[0m\n\u001b[1;32m      <a href='vscode-notebook-cell://wsl%2Bubuntu/mnt/e/My_Workspace/QRT_spaceship_rental_test/spaceship_rental/unit_test.ipynb#X14sdnNjb2RlLXJlbW90ZQ%3D%3D?line=0'>1</a>\u001b[0m \u001b[39m## Empty contracts list will raise Request body is empty error.\u001b[39;00m\n\u001b[1;32m      <a href='vscode-notebook-cell://wsl%2Bubuntu/mnt/e/My_Workspace/QRT_spaceship_rental_test/spaceship_rental/unit_test.ipynb#X14sdnNjb2RlLXJlbW90ZQ%3D%3D?line=1'>2</a>\u001b[0m contracts \u001b[39m=\u001b[39m []\n\u001b[0;32m----> <a href='vscode-notebook-cell://wsl%2Bubuntu/mnt/e/My_Workspace/QRT_spaceship_rental_test/spaceship_rental/unit_test.ipynb#X14sdnNjb2RlLXJlbW90ZQ%3D%3D?line=2'>3</a>\u001b[0m find_path(contracts)\n",
      "\u001b[1;32m/mnt/e/My_Workspace/QRT_spaceship_rental_test/spaceship_rental/unit_test.ipynb Cell 12\u001b[0m in \u001b[0;36mfind_path\u001b[0;34m(contract)\u001b[0m\n\u001b[1;32m      <a href='vscode-notebook-cell://wsl%2Bubuntu/mnt/e/My_Workspace/QRT_spaceship_rental_test/spaceship_rental/unit_test.ipynb#X14sdnNjb2RlLXJlbW90ZQ%3D%3D?line=2'>3</a>\u001b[0m best_path \u001b[39m=\u001b[39m ()\n\u001b[1;32m      <a href='vscode-notebook-cell://wsl%2Bubuntu/mnt/e/My_Workspace/QRT_spaceship_rental_test/spaceship_rental/unit_test.ipynb#X14sdnNjb2RlLXJlbW90ZQ%3D%3D?line=3'>4</a>\u001b[0m max_profit \u001b[39m=\u001b[39m \u001b[39m0\u001b[39m\n\u001b[0;32m----> <a href='vscode-notebook-cell://wsl%2Bubuntu/mnt/e/My_Workspace/QRT_spaceship_rental_test/spaceship_rental/unit_test.ipynb#X14sdnNjb2RlLXJlbW90ZQ%3D%3D?line=4'>5</a>\u001b[0m neigh_set \u001b[39m=\u001b[39m build_neighbour(contract)\n\u001b[1;32m      <a href='vscode-notebook-cell://wsl%2Bubuntu/mnt/e/My_Workspace/QRT_spaceship_rental_test/spaceship_rental/unit_test.ipynb#X14sdnNjb2RlLXJlbW90ZQ%3D%3D?line=5'>6</a>\u001b[0m tmp_set \u001b[39m=\u001b[39m neigh_set\n\u001b[1;32m      <a href='vscode-notebook-cell://wsl%2Bubuntu/mnt/e/My_Workspace/QRT_spaceship_rental_test/spaceship_rental/unit_test.ipynb#X14sdnNjb2RlLXJlbW90ZQ%3D%3D?line=6'>7</a>\u001b[0m holder_set \u001b[39m=\u001b[39m neigh_set\n",
      "\u001b[1;32m/mnt/e/My_Workspace/QRT_spaceship_rental_test/spaceship_rental/unit_test.ipynb Cell 12\u001b[0m in \u001b[0;36mbuild_neighbour\u001b[0;34m(contract)\u001b[0m\n\u001b[1;32m     <a href='vscode-notebook-cell://wsl%2Bubuntu/mnt/e/My_Workspace/QRT_spaceship_rental_test/spaceship_rental/unit_test.ipynb#X14sdnNjb2RlLXJlbW90ZQ%3D%3D?line=13'>14</a>\u001b[0m                 neigh_set\u001b[39m.\u001b[39madd((\u001b[39mf\u001b[39m\u001b[39m\"\u001b[39m\u001b[39m{\u001b[39;00mc[\u001b[39m'\u001b[39m\u001b[39mname\u001b[39m\u001b[39m'\u001b[39m]\u001b[39m}\u001b[39;00m\u001b[39m:\u001b[39m\u001b[39m{\u001b[39;00mc[\u001b[39m'\u001b[39m\u001b[39mprice\u001b[39m\u001b[39m'\u001b[39m]\u001b[39m}\u001b[39;00m\u001b[39m\"\u001b[39m, \u001b[39mNone\u001b[39;00m))\n\u001b[1;32m     <a href='vscode-notebook-cell://wsl%2Bubuntu/mnt/e/My_Workspace/QRT_spaceship_rental_test/spaceship_rental/unit_test.ipynb#X14sdnNjb2RlLXJlbW90ZQ%3D%3D?line=14'>15</a>\u001b[0m \u001b[39melse\u001b[39;00m:\n\u001b[0;32m---> <a href='vscode-notebook-cell://wsl%2Bubuntu/mnt/e/My_Workspace/QRT_spaceship_rental_test/spaceship_rental/unit_test.ipynb#X14sdnNjb2RlLXJlbW90ZQ%3D%3D?line=15'>16</a>\u001b[0m     \u001b[39mraise\u001b[39;00m \u001b[39mException\u001b[39;00m(\u001b[39m\"\u001b[39m\u001b[39mRequest body is empty\u001b[39m\u001b[39m\"\u001b[39m)\n\u001b[1;32m     <a href='vscode-notebook-cell://wsl%2Bubuntu/mnt/e/My_Workspace/QRT_spaceship_rental_test/spaceship_rental/unit_test.ipynb#X14sdnNjb2RlLXJlbW90ZQ%3D%3D?line=16'>17</a>\u001b[0m \u001b[39mreturn\u001b[39;00m neigh_set\n",
      "\u001b[0;31mException\u001b[0m: Request body is empty"
     ]
    }
   ],
   "source": [
    "## Empty contracts list will raise Request body is empty error.\n",
    "contracts = []\n",
    "find_path(contracts)"
   ]
  }
 ],
 "metadata": {
  "kernelspec": {
   "display_name": "Python 3",
   "language": "python",
   "name": "python3"
  },
  "language_info": {
   "codemirror_mode": {
    "name": "ipython",
    "version": 3
   },
   "file_extension": ".py",
   "mimetype": "text/x-python",
   "name": "python",
   "nbconvert_exporter": "python",
   "pygments_lexer": "ipython3",
   "version": "3.8.10"
  },
  "orig_nbformat": 4,
  "vscode": {
   "interpreter": {
    "hash": "916dbcbb3f70747c44a77c7bcd40155683ae19c65e1c03b4aa3499c5328201f1"
   }
  }
 },
 "nbformat": 4,
 "nbformat_minor": 2
}
