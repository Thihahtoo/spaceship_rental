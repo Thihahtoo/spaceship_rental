{
 "cells": [
  {
   "cell_type": "code",
   "execution_count": 56,
   "metadata": {},
   "outputs": [],
   "source": [
    "contracts = [\n",
    "{\"name\": 'c1', \"start\" : 0, \"duration\": 2, \"price\": 10}\n",
    ",{\"name\": \"c2\", \"start\" :2, \"duration\" :2, \"price\" :1}\n",
    ",{\"name\": \"c3\", \"start\" :2, \"duration\" :4 , \"price\": 2}\n",
    ",{\"name\": \"c4\", \"start\" :4, \"duration\" :4 , \"price\": 2}\n",
    ",{\"name\": \"c5\", \"start\" :8, \"duration\" :4 , \"price\": 2}\n",
    "]"
   ]
  },
  {
   "attachments": {},
   "cell_type": "markdown",
   "metadata": {},
   "source": [
    "### Step1"
   ]
  },
  {
   "attachments": {},
   "cell_type": "markdown",
   "metadata": {},
   "source": [
    "Create next hop for each of the contract and also attach price for each so that it's easier to calculate total price later."
   ]
  },
  {
   "cell_type": "code",
   "execution_count": 57,
   "metadata": {},
   "outputs": [],
   "source": [
    "def build_neighbour(contract):\n",
    "    neigh_set = set({})\n",
    "    if contract:\n",
    "        for c in contract:\n",
    "            if set(c.keys()) == {'name','start','duration','price'}:\n",
    "                neig = ()\n",
    "                end = c['start'] + c['duration']\n",
    "                for j in contract:\n",
    "                    if set(j.keys()) == {'name','start','duration','price'} and j['start'] >= end:\n",
    "                        neig = (f\"{c['name']}:{c['price']}\", f\"{j['name']}:{j['price']}\")\n",
    "                        neigh_set.add(neig)\n",
    "                        \n",
    "                if not neig:\n",
    "                    neigh_set.add((f\"{c['name']}:{c['price']}\", None))\n",
    "    else:\n",
    "        raise Exception(\"Request body is empty\")\n",
    "    return neigh_set"
   ]
  },
  {
   "attachments": {},
   "cell_type": "markdown",
   "metadata": {},
   "source": [
    "This results show contracts c2,c3,c4,c5 can pick up after c1 and so on."
   ]
  },
  {
   "cell_type": "code",
   "execution_count": 58,
   "metadata": {},
   "outputs": [
    {
     "name": "stdout",
     "output_type": "stream",
     "text": [
      "('c4:2', 'c5:2')\n",
      "('c5:2', None)\n",
      "('c1:10', 'c3:2')\n",
      "('c3:2', 'c5:2')\n",
      "('c2:1', 'c5:2')\n",
      "('c2:1', 'c4:2')\n",
      "('c1:10', 'c2:1')\n",
      "('c1:10', 'c5:2')\n",
      "('c1:10', 'c4:2')\n"
     ]
    }
   ],
   "source": [
    "neigh_set = build_neighbour(contracts)\n",
    "for i in neigh_set:\n",
    "    print(i)"
   ]
  },
  {
   "attachments": {},
   "cell_type": "markdown",
   "metadata": {},
   "source": [
    "### Step2"
   ]
  },
  {
   "attachments": {},
   "cell_type": "markdown",
   "metadata": {},
   "source": [
    "Create a function that clear out total price and path for each possible path. This function is useful to do the next step."
   ]
  },
  {
   "cell_type": "code",
   "execution_count": 59,
   "metadata": {},
   "outputs": [],
   "source": [
    "def calculate_total_profit(path_tuple):\n",
    "    path = []\n",
    "    profit = 0\n",
    "    for ele in path_tuple:\n",
    "        if ele is not None:\n",
    "            c, p = ele.split(':')\n",
    "            path.append(c)\n",
    "            profit = profit + int(p)\n",
    "    return (tuple(path), profit)"
   ]
  },
  {
   "attachments": {},
   "cell_type": "markdown",
   "metadata": {},
   "source": [
    "This function return clear result like showed below.  ('c1:10', 'c2:1', 'c5:2', None) -> (('c1', 'c2', 'c5'), 13)"
   ]
  },
  {
   "cell_type": "code",
   "execution_count": 60,
   "metadata": {},
   "outputs": [
    {
     "data": {
      "text/plain": [
       "(('c1', 'c2', 'c5'), 13)"
      ]
     },
     "execution_count": 60,
     "metadata": {},
     "output_type": "execute_result"
    }
   ],
   "source": [
    "path_tuple=('c1:10', 'c2:1', 'c5:2', None)\n",
    "calculate_total_profit(path_tuple)"
   ]
  },
  {
   "attachments": {},
   "cell_type": "markdown",
   "metadata": {},
   "source": [
    "### Step3"
   ]
  },
  {
   "attachments": {},
   "cell_type": "markdown",
   "metadata": {},
   "source": [
    "The code below generate all the possible contract paths we can pickup."
   ]
  },
  {
   "cell_type": "code",
   "execution_count": 61,
   "metadata": {},
   "outputs": [
    {
     "name": "stdout",
     "output_type": "stream",
     "text": [
      "('c4:2', 'c5:2')\n",
      "('c5:2', None)\n",
      "('c1:10', 'c3:2')\n",
      "('c3:2', 'c5:2')\n",
      "('c2:1', 'c5:2')\n",
      "('c2:1', 'c4:2')\n",
      "('c1:10', 'c2:1')\n",
      "('c1:10', 'c5:2')\n",
      "('c1:10', 'c4:2')\n",
      "('c1:10', 'c3:2', 'c5:2')\n",
      "('c4:2', 'c5:2', None)\n",
      "('c2:1', 'c5:2', None)\n",
      "('c3:2', 'c5:2', None)\n",
      "('c2:1', 'c4:2', 'c5:2')\n",
      "('c1:10', 'c2:1', 'c5:2')\n",
      "('c1:10', 'c2:1', 'c4:2')\n",
      "('c1:10', 'c5:2', None)\n",
      "('c1:10', 'c4:2', 'c5:2')\n",
      "('c2:1', 'c4:2', 'c5:2', None)\n",
      "('c1:10', 'c3:2', 'c5:2', None)\n",
      "('c1:10', 'c2:1', 'c4:2', 'c5:2')\n",
      "('c1:10', 'c2:1', 'c5:2', None)\n",
      "('c1:10', 'c4:2', 'c5:2', None)\n",
      "('c1:10', 'c2:1', 'c4:2', 'c5:2', None)\n"
     ]
    }
   ],
   "source": [
    "main_dict = {}\n",
    "best_path = ()\n",
    "max_profit = 0\n",
    "neigh_set = build_neighbour(contracts)\n",
    "tmp_set = neigh_set\n",
    "holder_set = neigh_set\n",
    "\n",
    "while holder_set:\n",
    "    holder_set = set({})\n",
    "    for tup1 in tmp_set:\n",
    "        print(tup1)\n",
    "        path, profit = calculate_total_profit(tup1)\n",
    "        main_dict[path] = profit\n",
    "        \n",
    "        for tup2 in neigh_set:\n",
    "            if tup1[-1] == tup2[0]:\n",
    "                holder_set.add(tup1 + (tup2[-1],))\n",
    "    \n",
    "    tmp_set = holder_set"
   ]
  },
  {
   "attachments": {},
   "cell_type": "markdown",
   "metadata": {},
   "source": [
    "Above code will also add the paths and total profit to main_dict."
   ]
  },
  {
   "cell_type": "code",
   "execution_count": 62,
   "metadata": {},
   "outputs": [
    {
     "data": {
      "text/plain": [
       "{('c4', 'c5'): 4,\n",
       " ('c5',): 2,\n",
       " ('c1', 'c3'): 12,\n",
       " ('c3', 'c5'): 4,\n",
       " ('c2', 'c5'): 3,\n",
       " ('c2', 'c4'): 3,\n",
       " ('c1', 'c2'): 11,\n",
       " ('c1', 'c5'): 12,\n",
       " ('c1', 'c4'): 12,\n",
       " ('c1', 'c3', 'c5'): 14,\n",
       " ('c2', 'c4', 'c5'): 5,\n",
       " ('c1', 'c2', 'c5'): 13,\n",
       " ('c1', 'c2', 'c4'): 13,\n",
       " ('c1', 'c4', 'c5'): 14,\n",
       " ('c1', 'c2', 'c4', 'c5'): 15}"
      ]
     },
     "execution_count": 62,
     "metadata": {},
     "output_type": "execute_result"
    }
   ],
   "source": [
    "main_dict"
   ]
  },
  {
   "attachments": {},
   "cell_type": "markdown",
   "metadata": {},
   "source": [
    "Then the last code below is to get the maximum profit from the main_dict and give best_path and max_profit."
   ]
  },
  {
   "cell_type": "code",
   "execution_count": 63,
   "metadata": {},
   "outputs": [
    {
     "name": "stdout",
     "output_type": "stream",
     "text": [
      "('c1', 'c2', 'c4', 'c5') 15\n"
     ]
    }
   ],
   "source": [
    "best_path = max(main_dict, key=main_dict.get)\n",
    "max_profit = main_dict[best_path]\n",
    "print(best_path, max_profit)"
   ]
  }
 ],
 "metadata": {
  "kernelspec": {
   "display_name": "Python 3",
   "language": "python",
   "name": "python3"
  },
  "language_info": {
   "codemirror_mode": {
    "name": "ipython",
    "version": 3
   },
   "file_extension": ".py",
   "mimetype": "text/x-python",
   "name": "python",
   "nbconvert_exporter": "python",
   "pygments_lexer": "ipython3",
   "version": "3.8.10"
  },
  "orig_nbformat": 4,
  "vscode": {
   "interpreter": {
    "hash": "17c9b7ee004767e2d3d4104fb82030da1f26991afd816c4bccfd9251c7f4eb5f"
   }
  }
 },
 "nbformat": 4,
 "nbformat_minor": 2
}
